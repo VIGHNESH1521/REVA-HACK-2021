{
 "cells": [
  {
   "cell_type": "code",
   "execution_count": 1,
   "id": "ff2dfd60",
   "metadata": {},
   "outputs": [
    {
     "name": "stderr",
     "output_type": "stream",
     "text": [
      "2021-11-10 14:18:37.865 \n",
      "  \u001b[33m\u001b[1mWarning:\u001b[0m to view this Streamlit app on a browser, run it with the following\n",
      "  command:\n",
      "\n",
      "    streamlit run C:\\ProgramData\\Anaconda3\\lib\\site-packages\\ipykernel_launcher.py [ARGUMENTS]\n"
     ]
    },
    {
     "data": {
      "text/plain": [
       "DeltaGenerator(_root_container=0, _provided_cursor=None, _parent=None, _block_type=None, _form_data=None)"
      ]
     },
     "execution_count": 1,
     "metadata": {},
     "output_type": "execute_result"
    }
   ],
   "source": [
    "# import module\n",
    "import streamlit as st\n",
    "\n",
    "# Title\n",
    "st.title(\"FOOD WASTE INSIGHTS\")\n"
   ]
  },
  {
   "cell_type": "code",
   "execution_count": 2,
   "id": "49799de8",
   "metadata": {},
   "outputs": [],
   "source": [
    "import pandas as pd\n",
    "import numpy as np\n",
    "import seaborn as sns\n",
    "import matplotlib\n",
    "import matplotlib.pyplot as plt\n",
    "import os\n",
    "import textwrap\n",
    "\n",
    "for dirname, _, filenames in os.walk('/kaggle/input'):\n",
    "    for filename in filenames:\n",
    "        print(os.path.join(dirname, filename))"
   ]
  },
  {
   "cell_type": "code",
   "execution_count": null,
   "id": "b7e5aa18",
   "metadata": {},
   "outputs": [],
   "source": []
  },
  {
   "cell_type": "code",
   "execution_count": 3,
   "id": "c1ed1979",
   "metadata": {},
   "outputs": [
    {
     "ename": "NameError",
     "evalue": "name 'df' is not defined",
     "output_type": "error",
     "traceback": [
      "\u001b[1;31m---------------------------------------------------------------------------\u001b[0m",
      "\u001b[1;31mNameError\u001b[0m                                 Traceback (most recent call last)",
      "\u001b[1;32m<ipython-input-3-666f4d6210aa>\u001b[0m in \u001b[0;36m<module>\u001b[1;34m\u001b[0m\n\u001b[1;32m----> 1\u001b[1;33m \u001b[0mdf\u001b[0m \u001b[1;33m=\u001b[0m \u001b[0mdf\u001b[0m\u001b[1;33m[\u001b[0m\u001b[1;33m~\u001b[0m\u001b[0mdf\u001b[0m\u001b[1;33m[\u001b[0m\u001b[1;34m'label_date'\u001b[0m\u001b[1;33m]\u001b[0m\u001b[1;33m.\u001b[0m\u001b[0mastype\u001b[0m\u001b[1;33m(\u001b[0m\u001b[0mstr\u001b[0m\u001b[1;33m)\u001b[0m\u001b[1;33m.\u001b[0m\u001b[0mstr\u001b[0m\u001b[1;33m.\u001b[0m\u001b[0mstartswith\u001b[0m\u001b[1;33m(\u001b[0m\u001b[1;34m'x'\u001b[0m\u001b[1;33m)\u001b[0m\u001b[1;33m]\u001b[0m\u001b[1;33m\u001b[0m\u001b[1;33m\u001b[0m\u001b[0m\n\u001b[0m\u001b[0;32m      2\u001b[0m \u001b[0mdf\u001b[0m\u001b[1;33m[\u001b[0m\u001b[1;34m'label_date'\u001b[0m\u001b[1;33m]\u001b[0m \u001b[1;33m=\u001b[0m \u001b[0mdf\u001b[0m\u001b[1;33m[\u001b[0m\u001b[1;34m'label_date'\u001b[0m\u001b[1;33m]\u001b[0m\u001b[1;33m.\u001b[0m\u001b[0mstr\u001b[0m\u001b[1;33m[\u001b[0m\u001b[1;33m:\u001b[0m\u001b[1;36m10\u001b[0m\u001b[1;33m]\u001b[0m\u001b[1;33m\u001b[0m\u001b[1;33m\u001b[0m\u001b[0m\n\u001b[0;32m      3\u001b[0m \u001b[0mdf\u001b[0m\u001b[1;33m.\u001b[0m\u001b[0msort_values\u001b[0m\u001b[1;33m(\u001b[0m\u001b[0mby\u001b[0m \u001b[1;33m=\u001b[0m \u001b[1;33m[\u001b[0m\u001b[1;34m'label_date'\u001b[0m\u001b[1;33m]\u001b[0m\u001b[1;33m,\u001b[0m \u001b[0mascending\u001b[0m \u001b[1;33m=\u001b[0m \u001b[1;32mFalse\u001b[0m\u001b[1;33m)\u001b[0m\u001b[1;33m\u001b[0m\u001b[1;33m\u001b[0m\u001b[0m\n\u001b[0;32m      4\u001b[0m \u001b[0mdf\u001b[0m \u001b[1;33m=\u001b[0m \u001b[0mdf\u001b[0m\u001b[1;33m.\u001b[0m\u001b[0mdropna\u001b[0m\u001b[1;33m(\u001b[0m\u001b[0msubset\u001b[0m\u001b[1;33m=\u001b[0m\u001b[1;33m[\u001b[0m\u001b[1;34m'label_date'\u001b[0m\u001b[1;33m]\u001b[0m\u001b[1;33m)\u001b[0m\u001b[1;33m\u001b[0m\u001b[1;33m\u001b[0m\u001b[0m\n\u001b[0;32m      5\u001b[0m \u001b[0mdf\u001b[0m\u001b[1;33m[\u001b[0m\u001b[1;34m'date_collected'\u001b[0m\u001b[1;33m]\u001b[0m \u001b[1;33m=\u001b[0m \u001b[0mpd\u001b[0m\u001b[1;33m.\u001b[0m\u001b[0mto_datetime\u001b[0m\u001b[1;33m(\u001b[0m\u001b[0mdf\u001b[0m\u001b[1;33m[\u001b[0m\u001b[1;34m'date_collected'\u001b[0m\u001b[1;33m]\u001b[0m\u001b[1;33m,\u001b[0m  \u001b[0mformat\u001b[0m \u001b[1;33m=\u001b[0m \u001b[1;34m'%Y-%m-%d'\u001b[0m \u001b[1;33m)\u001b[0m\u001b[1;33m\u001b[0m\u001b[1;33m\u001b[0m\u001b[0m\n",
      "\u001b[1;31mNameError\u001b[0m: name 'df' is not defined"
     ]
    }
   ],
   "source": [
    "df = df[~df['label_date'].astype(str).str.startswith('x')]\n",
    "df['label_date'] = df['label_date'].str[:10]\n",
    "df.sort_values(by = ['label_date'], ascending = False)\n",
    "df = df.dropna(subset=['label_date'])\n",
    "df['date_collected'] = pd.to_datetime(df['date_collected'],  format = '%Y-%m-%d' )\n",
    "df['label_date'] = pd.to_datetime(df['label_date'],  format = '%Y-%m-%d' )\n",
    "df['Date_Diff'] = df['label_date'] - df['date_collected']"
   ]
  },
  {
   "cell_type": "code",
   "execution_count": null,
   "id": "4c77800c",
   "metadata": {},
   "outputs": [],
   "source": [
    "df['Date_Diff'] = pd.to_numeric(df['Date_Diff'].dt.days, downcast='integer')"
   ]
  },
  {
   "cell_type": "code",
   "execution_count": null,
   "id": "914ec570",
   "metadata": {},
   "outputs": [],
   "source": [
    "def APPLYFUN(i):\n",
    "    if i >= 0:\n",
    "        return 'Early Throw Out Time'\n",
    "    else:\n",
    "        return 'On Time'\n",
    "df['Date_Diff_Cat'] = df['Date_Diff'].apply(APPLYFUN)\n",
    "df.head()"
   ]
  },
  {
   "cell_type": "code",
   "execution_count": null,
   "id": "f1944d56",
   "metadata": {},
   "outputs": [],
   "source": [
    "Retailer = df.groupby(by = ['retailer_type','Date_Diff_Cat'])['approximate_dollar_value'].sum().reset_index()\n",
    "Retailer = Retailer.sort_values(by = 'approximate_dollar_value', ascending = False)\n",
    "fig, ax = plt.subplots(figsize=(10,10))\n",
    "sns.barplot(data = Retailer, x = 'retailer_type', y = 'approximate_dollar_value',hue = 'Date_Diff_Cat', ax=ax)\n",
    "plt.xlabel('Retailer Type', weight = 'bold')\n",
    "plt.ylabel('Waste(Total Dollar Amount)', weight = 'bold')\n",
    "ax.text(x=0.5, y=1, s='Total Food Waste according to Retailer Type', fontsize=15, weight='bold', color = 'green', ha='center', va='bottom', transform=ax.transAxes)\n",
    "st.write(fig)\n"
   ]
  },
  {
   "cell_type": "code",
   "execution_count": null,
   "id": "c7cd2cb6",
   "metadata": {},
   "outputs": [],
   "source": [
    "Type = df.groupby(by = ['food_type','Date_Diff_Cat'])['approximate_dollar_value'].sum().reset_index()\n",
    "Type = Type.sort_values(by = 'approximate_dollar_value', ascending = False)\n",
    "fig, ax = plt.subplots(figsize=(10,10))\n",
    "sns.barplot(data = Type, x = 'food_type', y = 'approximate_dollar_value',hue = 'Date_Diff_Cat', ax=ax)\n",
    "plt.xlabel('Food Type', weight = 'bold')\n",
    "plt.ylabel('Waste(Total Dollar Amount)', weight = 'bold')\n",
    "ax.text(x=0.5, y=1, s='Total Food Waste according to Food Type', fontsize=15, weight='bold', color = 'green', ha='center', va='bottom', transform=ax.transAxes)\n",
    "st.write(fig)\n"
   ]
  },
  {
   "cell_type": "code",
   "execution_count": null,
   "id": "f7d0f31e",
   "metadata": {},
   "outputs": [],
   "source": [
    "Detail = df.groupby(by = ['retailer_detail','Date_Diff_Cat'])['approximate_dollar_value'].sum().reset_index()\n",
    "Detail = Detail.sort_values(by = 'approximate_dollar_value', ascending = False)\n",
    "fig, ax = plt.subplots(figsize=(20,10))\n",
    "sns.barplot(data = Detail, x = 'retailer_detail', y = 'approximate_dollar_value',hue = 'Date_Diff_Cat', ax=ax)\n",
    "plt.xlabel('Food Detail', weight = 'bold')\n",
    "plt.ylabel('Waste(Total Dollar Amount)', weight = 'bold')\n",
    "ax.text(x=0.5, y=1, s='Total Food Waste according to Food Detail', fontsize=15, weight='bold', color = 'green', ha='center', va='bottom', transform=ax.transAxes)\n",
    "ax.set_xticklabels([textwrap.fill(e, 30) for e in Detail['retailer_detail'].head()])\n",
    "st.write(fig)\n"
   ]
  },
  {
   "cell_type": "code",
   "execution_count": null,
   "id": "8b9d2d62",
   "metadata": {},
   "outputs": [],
   "source": [
    "Food = df.groupby(by = ['food_detail'])['approximate_dollar_value'].sum().reset_index()\n",
    "Food = Food.sort_values(by = 'approximate_dollar_value', ascending = False)[:10]\n",
    "fig, ax = plt.subplots(figsize=(20,10))\n",
    "sns.barplot(data = Food, x = 'food_detail', y = 'approximate_dollar_value',color = 'blue', ax=ax)\n",
    "plt.xlabel('Food', weight = 'bold')\n",
    "plt.ylabel('Waste(Total Dollar Amount)', weight = 'bold')\n",
    "ax.text(x=0.5, y=1, s='Total Food Waste according to Food', fontsize=15, weight='bold', color = 'green', ha='center', va='bottom', transform=ax.transAxes)\n",
    "ax.set_xticklabels([textwrap.fill(e, 15) for e in Food['food_detail']])\n",
    "st.write(fig)"
   ]
  },
  {
   "cell_type": "code",
   "execution_count": null,
   "id": "c7a5ca2a",
   "metadata": {},
   "outputs": [],
   "source": []
  }
 ],
 "metadata": {
  "kernelspec": {
   "display_name": "Python 3",
   "language": "python",
   "name": "python3"
  },
  "language_info": {
   "codemirror_mode": {
    "name": "ipython",
    "version": 3
   },
   "file_extension": ".py",
   "mimetype": "text/x-python",
   "name": "python",
   "nbconvert_exporter": "python",
   "pygments_lexer": "ipython3",
   "version": "3.8.8"
  }
 },
 "nbformat": 4,
 "nbformat_minor": 5
}
